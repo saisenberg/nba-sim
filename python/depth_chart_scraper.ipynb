{
 "cells": [
  {
   "cell_type": "markdown",
   "metadata": {},
   "source": [
    "# depth_chart_scraper\n",
    "\n",
    "### Scrapes and organizes NBA depth charts from [*ESPN*](http://www.espn.com/nba/depth/_/type/print)."
   ]
  },
  {
   "cell_type": "code",
   "execution_count": 1,
   "metadata": {},
   "outputs": [],
   "source": [
    "# Import dependencies\n",
    "import numpy as np\n",
    "import pandas as pd\n",
    "import re\n",
    "\n",
    "from urllib.request import urlopen\n",
    "from bs4 import BeautifulSoup"
   ]
  },
  {
   "cell_type": "code",
   "execution_count": 2,
   "metadata": {},
   "outputs": [],
   "source": [
    "# Scrape ESPN depth chart\n",
    "html = urlopen('http://www.espn.com/nba/depth/_/type/print')\n",
    "soup = BeautifulSoup(html, 'lxml')"
   ]
  },
  {
   "cell_type": "code",
   "execution_count": 3,
   "metadata": {},
   "outputs": [],
   "source": [
    "# Dictionary of team abbreviations\n",
    "team_abbrvs = {'Atlanta':'ATL', 'Boston':'BOS', 'Brooklyn':'BRK', 'Charlotte':'CHO',\n",
    "               'Chicago':'CHI', 'Cleveland':'CLE', 'Dallas':'DAL', 'Denver':'DEN',\n",
    "               'Detroit':'DET', 'Golden State':'GSW', 'Houston':'HOU', 'Indiana':'IND',\n",
    "               'LA Clippers':'LAC', 'LA Lakers':'LAL', 'Memphis':'MEM', 'Miami':'MIA', \n",
    "               'Milwaukee':'MIL', 'Minnesota':'MIN', 'New Orleans':'NOP', 'New York':'NYK',\n",
    "               'Oklahoma City':'OKC', 'Orlando':'ORL', 'Philadelphia':'PHI', 'Phoenix':'PHO',\n",
    "               'Portland':'POR', 'Sacramento':'SAC', 'San Antonio':'SAS', 'Toronto':'TOR',\n",
    "               'Utah':'UTA', 'Washington':'WAS'}"
   ]
  },
  {
   "cell_type": "code",
   "execution_count": 4,
   "metadata": {},
   "outputs": [],
   "source": [
    "# Organize depth charts\n",
    "teams = {}\n",
    "\n",
    "for i in soup.find_all('font', {'face':'verdana'}):\n",
    "    team_text = i.get_text().split('\\n')\n",
    "    city = team_text[0]\n",
    "    teams[city] = {'Player':[], 'Depth':[], 'Team':[]}\n",
    "    \n",
    "    players = team_text[1:(len(team_text)-1)]\n",
    "    for num, player in enumerate(players):\n",
    "        info = player.split('-', 1)\n",
    "        teams[city]['Depth'].append([int(char) for char in info[0] if char.isdigit()][0] )\n",
    "        teams[city]['Player'].append(info[1].replace(\" (IL)\", ''))\n",
    "        teams[city]['Team'].append(city)"
   ]
  },
  {
   "cell_type": "code",
   "execution_count": 5,
   "metadata": {
    "scrolled": true
   },
   "outputs": [],
   "source": [
    "# Save depth charts to dataframe\n",
    "depth_chart = pd.DataFrame()\n",
    "\n",
    "for team in teams:\n",
    "    depth_chart = pd.concat([depth_chart, pd.DataFrame(teams[team])], axis=0)\n",
    "\n",
    "depth_chart['teamAbbr'] = depth_chart.apply(lambda x: team_abbrvs[x['Team']], axis=1)\n",
    "depth_chart = depth_chart.sort_values(['teamAbbr', 'Depth']).reset_index(drop=True)"
   ]
  },
  {
   "cell_type": "code",
   "execution_count": 6,
   "metadata": {},
   "outputs": [],
   "source": [
    "depth_chart.to_csv('..\\\\data\\\\espn_depth_chart.csv', index=False)"
   ]
  }
 ],
 "metadata": {
  "kernelspec": {
   "display_name": "Python 3",
   "language": "python",
   "name": "python3"
  },
  "language_info": {
   "codemirror_mode": {
    "name": "ipython",
    "version": 3
   },
   "file_extension": ".py",
   "mimetype": "text/x-python",
   "name": "python",
   "nbconvert_exporter": "python",
   "pygments_lexer": "ipython3",
   "version": "3.6.5"
  }
 },
 "nbformat": 4,
 "nbformat_minor": 2
}
